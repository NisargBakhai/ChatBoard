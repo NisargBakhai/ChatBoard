{
  "nbformat": 4,
  "nbformat_minor": 0,
  "metadata": {
    "colab": {
      "name": "Untitled6.ipynb",
      "provenance": [],
      "authorship_tag": "ABX9TyNPOlT8q7DjY9B5ooT5TZ4/",
      "include_colab_link": true
    },
    "kernelspec": {
      "name": "python3",
      "display_name": "Python 3"
    },
    "language_info": {
      "name": "python"
    }
  },
  "cells": [
    {
      "cell_type": "markdown",
      "metadata": {
        "id": "view-in-github",
        "colab_type": "text"
      },
      "source": [
        "<a href=\"https://colab.research.google.com/github/NisargBakhai/ChatBoard/blob/main/DS1.ipynb\" target=\"_parent\"><img src=\"https://colab.research.google.com/assets/colab-badge.svg\" alt=\"Open In Colab\"/></a>"
      ]
    },
    {
      "cell_type": "code",
      "metadata": {
        "colab": {
          "base_uri": "https://localhost:8080/"
        },
        "id": "HDMY7uPNxHH-",
        "outputId": "962bbcb4-2f62-4609-a2c1-87f60f06e807"
      },
      "source": [
        "pip install selenium"
      ],
      "execution_count": 6,
      "outputs": [
        {
          "output_type": "stream",
          "text": [
            "Requirement already satisfied: selenium in /usr/local/lib/python3.7/dist-packages (3.141.0)\n",
            "Requirement already satisfied: urllib3 in /usr/local/lib/python3.7/dist-packages (from selenium) (1.24.3)\n"
          ],
          "name": "stdout"
        }
      ]
    },
    {
      "cell_type": "code",
      "metadata": {
        "colab": {
          "base_uri": "https://localhost:8080/"
        },
        "id": "OCe1tyQQxaIy",
        "outputId": "bb0072ca-93b6-4825-922b-6880aabe85f6"
      },
      "source": [
        "!apt install chromium-chromedriver"
      ],
      "execution_count": 7,
      "outputs": [
        {
          "output_type": "stream",
          "text": [
            "Reading package lists... Done\n",
            "Building dependency tree       \n",
            "Reading state information... Done\n",
            "chromium-chromedriver is already the newest version (91.0.4472.101-0ubuntu0.18.04.1).\n",
            "0 upgraded, 0 newly installed, 0 to remove and 40 not upgraded.\n"
          ],
          "name": "stdout"
        }
      ]
    },
    {
      "cell_type": "code",
      "metadata": {
        "colab": {
          "base_uri": "https://localhost:8080/"
        },
        "id": "nGH1GVkKxo93",
        "outputId": "97ca3415-dba3-44b7-83b3-9a1712e69a66"
      },
      "source": [
        "pip install beautifulsoup4"
      ],
      "execution_count": 5,
      "outputs": [
        {
          "output_type": "stream",
          "text": [
            "Requirement already satisfied: beautifulsoup4 in /usr/local/lib/python3.7/dist-packages (4.6.3)\n"
          ],
          "name": "stdout"
        }
      ]
    },
    {
      "cell_type": "code",
      "metadata": {
        "id": "wYviC7ARyq0y"
      },
      "source": [
        "from selenium import webdriver"
      ],
      "execution_count": 9,
      "outputs": []
    },
    {
      "cell_type": "code",
      "metadata": {
        "id": "eOSui5Q8ywMC"
      },
      "source": [
        "from bs4 import BeautifulSoup"
      ],
      "execution_count": 11,
      "outputs": []
    },
    {
      "cell_type": "code",
      "metadata": {
        "id": "w1TeX18fyzE7"
      },
      "source": [
        "import pandas as pd"
      ],
      "execution_count": 12,
      "outputs": []
    },
    {
      "cell_type": "code",
      "metadata": {
        "colab": {
          "base_uri": "https://localhost:8080/"
        },
        "id": "_8MY_fOvzOAG",
        "outputId": "c2d43c17-eb3b-42f7-e01f-db6c50bea2c5"
      },
      "source": [
        "from selenium import webdriver\n",
        "chrome_options = webdriver.ChromeOptions()\n",
        "chrome_options.add_argument('--headless')\n",
        "chrome_options.add_argument('--no-sandbox')\n",
        "chrome_options.add_argument('--disable-dev-shm-usage')\n",
        "wd = webdriver.Chrome('chromedriver',chrome_options=chrome_options)\n",
        "driver =webdriver.Chrome('chromedriver',chrome_options=chrome_options)"
      ],
      "execution_count": 13,
      "outputs": [
        {
          "output_type": "stream",
          "text": [
            "/usr/local/lib/python3.7/dist-packages/ipykernel_launcher.py:6: DeprecationWarning: use options instead of chrome_options\n",
            "  \n",
            "/usr/local/lib/python3.7/dist-packages/ipykernel_launcher.py:7: DeprecationWarning: use options instead of chrome_options\n",
            "  import sys\n"
          ],
          "name": "stderr"
        }
      ]
    },
    {
      "cell_type": "code",
      "metadata": {
        "id": "f_3QrHMlzReD"
      },
      "source": [
        "driver.get(\"https://www.flipkart.com/search?q=washing+machines&sid=j9e%2Cabm%2C8qx&as=on&as-show=on&otracker=AS_QueryStore_OrganicAutoSuggest_1_8_sc_na_na&otracker1=AS_QueryStore_OrganicAutoSuggest_1_8_sc_na_na&as-pos=1&as-type=RECENT&suggestionId=washing+machines%7CWashing+Machines+%26+Dryers&requestId=85c1307b-8390-4db5-a1df-0e5ea924f9b7&as-backfill=on%22\")\n",
        "content = driver.page_source\n",
        "soup = BeautifulSoup(content)"
      ],
      "execution_count": 14,
      "outputs": []
    },
    {
      "cell_type": "code",
      "metadata": {
        "id": "crynTCV8zmRr"
      },
      "source": [
        "products=[] #List to store the name of the product\n",
        "prices=[] #List to store price of the product\n",
        "features=[] #List to store rating of the product"
      ],
      "execution_count": 16,
      "outputs": []
    },
    {
      "cell_type": "code",
      "metadata": {
        "id": "ZpQupeqmz30u"
      },
      "source": [
        "for a in soup.findAll('a',href=True, attrs={'class':'_1fQZEK'}):\n",
        "    name=a.find('div',attrs={'class':'_4rR01T'})\n",
        "    price=a.find('div',attrs={'class':'_30jeq3 _1_WHN1'})\n",
        "    feature=a.find('div',attrs={'class':'fMghEO'})\n",
        "    products.append(name.text)\n",
        "    prices.append(price.text)\n",
        "    features.append(feature.text)"
      ],
      "execution_count": 17,
      "outputs": []
    },
    {
      "cell_type": "code",
      "metadata": {
        "colab": {
          "base_uri": "https://localhost:8080/"
        },
        "id": "IMsbu-3pz9hV",
        "outputId": "75bdbb36-99ca-4bdf-ce41-f27a9da7e68f"
      },
      "source": [
        "df = pd.DataFrame({'Product Name':products,'Price':prices , 'Feature':features})\n",
        "print(df.head(10))"
      ],
      "execution_count": 18,
      "outputs": [
        {
          "output_type": "stream",
          "text": [
            "                                        Product Name  ...                                            Feature\n",
            "0      LG 7 kg Semi Automatic Top Load Maroon, White  ...  Semi Automatic Top LoadCapacity: 7 kg | Max Sp...\n",
            "1  LG 7 kg Fully Automatic Front Load with In-bui...  ...  Fully Automatic Front Load5 Star RatingCapacit...\n",
            "2  SAMSUNG 6.5 kg Monsoon drying feature Fully Au...  ...  Fully Automatic Top Load3 Star RatingCapacity:...\n",
            "3  LG 6.5 kg 5 Star Inverter Fully Automatic Top ...  ...  Fully Automatic Top Load5 Star RatingCapacity:...\n",
            "4  SAMSUNG 6 kg 5 star Inverter Fully Automatic F...  ...  Fully Automatic Front Load5 Star RatingCapacit...\n",
            "5       Whirlpool 6 kg Fully Automatic Top Load Grey  ...  Fully Automatic Top Load5 Star RatingCapacity:...\n",
            "6  SAMSUNG 6.5 kg 5 Star Inverter Fully Automatic...  ...  Fully Automatic Top Load5 Star RatingCapacity:...\n",
            "7  LG 10 kg 5 Star Rating Semi Automatic Top Load...  ...  Semi Automatic Top Load5 Star RatingCapacity: ...\n",
            "8       Whirlpool 7 kg Fully Automatic Top Load Grey  ...  Fully Automatic Top Load5 Star RatingCapacity:...\n",
            "9  IFB 6 kg 5 Star Fully Automatic Front Load wit...  ...  Fully Automatic Front Load5 Star RatingCapacit...\n",
            "\n",
            "[10 rows x 3 columns]\n"
          ],
          "name": "stdout"
        }
      ]
    },
    {
      "cell_type": "code",
      "metadata": {
        "id": "FB1OZYaE0CvO"
      },
      "source": [
        "df.to_csv('products.csv', index=False, encoding='utf-8')"
      ],
      "execution_count": 19,
      "outputs": []
    }
  ]
}